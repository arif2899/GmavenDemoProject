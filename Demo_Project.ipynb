{
  "nbformat": 4,
  "nbformat_minor": 0,
  "metadata": {
    "colab": {
      "name": "Demo Project.ipynb",
      "provenance": []
    },
    "kernelspec": {
      "name": "python3",
      "display_name": "Python 3"
    },
    "language_info": {
      "name": "python"
    }
  },
  "cells": [
    {
      "cell_type": "markdown",
      "metadata": {
        "id": "vOBGPXYcPcks"
      },
      "source": [
        "## Importing Libraries"
      ]
    },
    {
      "cell_type": "code",
      "metadata": {
        "id": "38n6GuxEOShj"
      },
      "source": [
        "import pandas as pd\n",
        "from datetime import datetime\n",
        "import smtplib\n",
        "from email.mime.application import MIMEApplication\n",
        "from email.mime.base import MIMEBase\n",
        "from email.mime.multipart import MIMEMultipart\n",
        "from email.mime.text import MIMEText\n",
        "from email.utils import formatdate"
      ],
      "execution_count": 20,
      "outputs": []
    },
    {
      "cell_type": "markdown",
      "metadata": {
        "id": "7L3Fq5pvPVHU"
      },
      "source": [
        "## Connecting Colab with Google Sheets\n",
        "* Kindly visit the link after running this cell and authorize via copying the authentication key from the browser tab"
      ]
    },
    {
      "cell_type": "code",
      "metadata": {
        "id": "Gn1ZnVVBOY02"
      },
      "source": [
        "from google.colab import auth\n",
        "auth.authenticate_user()\n",
        "import requests\n",
        "import gspread # reading from google sheets \n",
        "from oauth2client.client import GoogleCredentials\n",
        "gc = gspread.authorize(GoogleCredentials.get_application_default()) # Google authentication "
      ],
      "execution_count": 21,
      "outputs": []
    },
    {
      "cell_type": "markdown",
      "metadata": {
        "id": "v1O5jqGaPhMJ"
      },
      "source": [
        "## Importing data from Google Sheets"
      ]
    },
    {
      "cell_type": "code",
      "metadata": {
        "colab": {
          "base_uri": "https://localhost:8080/",
          "height": 275
        },
        "id": "fSzw1zEmO7me",
        "outputId": "6a555223-f609-40b7-f63d-4e4f28598b3b"
      },
      "source": [
        "import pandas as pd\n",
        "sheetname=\"Demo\" # Google Sheet file name without using extention\n",
        "sh = gc.open(sheetname)\n",
        "worksheet = sh.sheet1 # Sheet name inside Google Sheet file \n",
        "values_list = worksheet.get_all_values()\n",
        "data = pd.DataFrame(values_list, )\n",
        "data, data.columns = df[1:] , df.iloc[0] \n",
        "data['Lastdatereceived']= pd.to_datetime(data['Lastdatereceived']) # changing datatype string to datetime\n",
        "data.head()"
      ],
      "execution_count": 47,
      "outputs": [
        {
          "output_type": "stream",
          "name": "stderr",
          "text": [
            "/usr/local/lib/python3.7/dist-packages/ipykernel_launcher.py:8: SettingWithCopyWarning: \n",
            "A value is trying to be set on a copy of a slice from a DataFrame.\n",
            "Try using .loc[row_indexer,col_indexer] = value instead\n",
            "\n",
            "See the caveats in the documentation: https://pandas.pydata.org/pandas-docs/stable/user_guide/indexing.html#returning-a-view-versus-a-copy\n",
            "  \n"
          ]
        },
        {
          "output_type": "execute_result",
          "data": {
            "text/html": [
              "<div>\n",
              "<style scoped>\n",
              "    .dataframe tbody tr th:only-of-type {\n",
              "        vertical-align: middle;\n",
              "    }\n",
              "\n",
              "    .dataframe tbody tr th {\n",
              "        vertical-align: top;\n",
              "    }\n",
              "\n",
              "    .dataframe thead th {\n",
              "        text-align: right;\n",
              "    }\n",
              "</style>\n",
              "<table border=\"1\" class=\"dataframe\">\n",
              "  <thead>\n",
              "    <tr style=\"text-align: right;\">\n",
              "      <th></th>\n",
              "      <th>BusinessName</th>\n",
              "      <th>Vacancyschedulename</th>\n",
              "      <th>Lastdatereceived</th>\n",
              "      <th>ContactName</th>\n",
              "      <th>ContactSurname</th>\n",
              "      <th>Contactemail</th>\n",
              "      <th>Telnumber</th>\n",
              "      <th>Mobilenumber</th>\n",
              "    </tr>\n",
              "  </thead>\n",
              "  <tbody>\n",
              "    <tr>\n",
              "      <th>1</th>\n",
              "      <td>xyz</td>\n",
              "      <td>abc</td>\n",
              "      <td>2021-08-16</td>\n",
              "      <td>mike</td>\n",
              "      <td>surn</td>\n",
              "      <td>mdariful-2016114672@amath.du.ac.bd</td>\n",
              "      <td>89833</td>\n",
              "      <td>546378904</td>\n",
              "    </tr>\n",
              "    <tr>\n",
              "      <th>2</th>\n",
              "      <td>xyz</td>\n",
              "      <td>abc</td>\n",
              "      <td>2021-02-16</td>\n",
              "      <td>mike</td>\n",
              "      <td>surn</td>\n",
              "      <td>mdariful-2016114672@amath.du.ac.bd</td>\n",
              "      <td>89833</td>\n",
              "      <td>546378904</td>\n",
              "    </tr>\n",
              "    <tr>\n",
              "      <th>3</th>\n",
              "      <td>xyz</td>\n",
              "      <td>abc</td>\n",
              "      <td>2020-01-16</td>\n",
              "      <td>mike</td>\n",
              "      <td>surn</td>\n",
              "      <td>mdariful-2016114672@amath.du.ac.bd</td>\n",
              "      <td>89833</td>\n",
              "      <td>546378904</td>\n",
              "    </tr>\n",
              "    <tr>\n",
              "      <th>4</th>\n",
              "      <td>xyz</td>\n",
              "      <td>abc</td>\n",
              "      <td>2020-05-16</td>\n",
              "      <td>mike</td>\n",
              "      <td>surn</td>\n",
              "      <td>mdariful-2016114672@amath.du.ac.bd</td>\n",
              "      <td>89833</td>\n",
              "      <td>546378904</td>\n",
              "    </tr>\n",
              "  </tbody>\n",
              "</table>\n",
              "</div>"
            ],
            "text/plain": [
              "0 BusinessName Vacancyschedulename  ... Telnumber Mobilenumber\n",
              "1          xyz                 abc  ...     89833    546378904\n",
              "2          xyz                 abc  ...     89833    546378904\n",
              "3          xyz                 abc  ...     89833    546378904\n",
              "4          xyz                 abc  ...     89833    546378904\n",
              "\n",
              "[4 rows x 8 columns]"
            ]
          },
          "metadata": {},
          "execution_count": 47
        }
      ]
    },
    {
      "cell_type": "markdown",
      "metadata": {
        "id": "DF-S76vnRe0o"
      },
      "source": [
        "## Automatic Emailing Function"
      ]
    },
    {
      "cell_type": "code",
      "metadata": {
        "id": "JLbAIIyIRlRU"
      },
      "source": [
        "send_from = 'infinix.lion21@gmail.com'\n",
        "password = 'infinix.Lion21#'\n",
        "\n",
        "\n",
        "def send_email( send_from, password, send_to, subject, msg):\n",
        "        # assert isinstance(send_to, list)\n",
        "\n",
        "        msg = MIMEMultipart()\n",
        "        msg['From'] = send_from\n",
        "        msg['Date'] = formatdate(localtime=True)\n",
        "        msg['Subject'] = subject\n",
        "\n",
        "        msg.attach(MIMEText(text))\n",
        "\n",
        "        smtp = smtplib.SMTP('smtp.gmail.com', 587)\n",
        "        smtp.starttls()\n",
        "        smtp.login(send_from, password) #email and password by which we have to send the message, \n",
        "        smtp.sendmail(send_from, send_to, msg.as_string())\n",
        "        smtp.close()\n"
      ],
      "execution_count": 23,
      "outputs": []
    },
    {
      "cell_type": "markdown",
      "metadata": {
        "id": "hsEae410Z5oQ"
      },
      "source": [
        "## Setting up requirements for emailing"
      ]
    },
    {
      "cell_type": "code",
      "metadata": {
        "id": "N4PY7fqNPNd0"
      },
      "source": [
        "\n",
        "for i in range(1,data.shape[0]):\n",
        "    \n",
        "    lastDateReceived = data.loc[i, 'Lastdatereceived']\n",
        "    currentDate = datetime.now()\n",
        "    num_months = (currentDate.year - lastDateReceived.year) * 12 + (currentDate.month - lastDateReceived.month)\n",
        "    \n",
        "    if num_months == 1:\n",
        "        text = data.loc[i, 'BusinessName'] + \" the vacancy schedule you have sent has passed more than one month so it is outdated\"\n",
        "        send_to = data.loc[i, 'Contactemail']\n",
        "        subject = \"vacany Scheduled Outdated\"\n",
        "        send_email(send_from, password, send_to, subject, text)\n",
        "\n",
        "    elif num_months == 3:\n",
        "        text = data.loc[i, 'BusinessName'] + \" the vacancy schedule you have sent has passed more than three month month so it is outdated\"\n",
        "        send_to = data.loc[i, 'Contactemail']\n",
        "        subject = \"vacany Scheduled Outdated\"\n",
        "        send_email(send_from,password, send_to, subject, text)\n",
        "    \n",
        "    elif (num_months<12 and num_months!=0):\n",
        "        text = data.loc[i, 'BusinessName'] + \" the vacancy schedule you have sent has passed more than one month so it is outdated\"\n",
        "        send_to = data.loc[i, 'Contactemail']\n",
        "        subject = \"vacany Scheduled Outdated\"\n",
        "        send_email(send_from, password, send_to, subject, text)\n",
        "    \n",
        "    elif num_months>12:\n",
        "        text = data.loc[i, 'BusinessName'] + \" the vacancy schedule you have sent has passed more than one month so it is outdated\"\n",
        "        send_to = data.loc[i, 'Contactemail']\n",
        "        subject = \"vacany Scheduled Outdated\"\n",
        "        send_email(send_from, password, send_to, subject, text)\n",
        "        \n",
        "    else:\n",
        "        pass\n",
        "   "
      ],
      "execution_count": 50,
      "outputs": []
    }
  ]
}